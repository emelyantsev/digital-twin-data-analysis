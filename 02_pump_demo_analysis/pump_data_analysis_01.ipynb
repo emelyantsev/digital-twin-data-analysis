{
 "cells": [
  {
   "cell_type": "code",
   "execution_count": 201,
   "metadata": {},
   "outputs": [],
   "source": [
    "import numpy as np\n",
    "import pandas as pd"
   ]
  },
  {
   "cell_type": "code",
   "execution_count": 202,
   "metadata": {},
   "outputs": [],
   "source": [
    "from mpl_toolkits.mplot3d import Axes3D\n",
    "\n",
    "from matplotlib import cm\n",
    "import matplotlib.pyplot as plt\n",
    "%matplotlib inline"
   ]
  },
  {
   "cell_type": "markdown",
   "metadata": {},
   "source": [
    "### *Загрузка данных*"
   ]
  },
  {
   "cell_type": "code",
   "execution_count": 203,
   "metadata": {},
   "outputs": [],
   "source": [
    "df = pd.read_csv(\"file16.csv\")"
   ]
  },
  {
   "cell_type": "code",
   "execution_count": 204,
   "metadata": {},
   "outputs": [
    {
     "data": {
      "text/plain": [
       "(9644, 36)"
      ]
     },
     "execution_count": 204,
     "metadata": {},
     "output_type": "execute_result"
    }
   ],
   "source": [
    "df.shape"
   ]
  },
  {
   "cell_type": "code",
   "execution_count": 205,
   "metadata": {},
   "outputs": [
    {
     "name": "stdout",
     "output_type": "stream",
     "text": [
      "<class 'pandas.core.frame.DataFrame'>\n",
      "RangeIndex: 9644 entries, 0 to 9643\n",
      "Data columns (total 3 columns):\n",
      "T001                      6154 non-null float64\n",
      "T002                      6169 non-null float64\n",
      "Fln_ShaftRotationSpeed    6813 non-null float64\n",
      "dtypes: float64(3)\n",
      "memory usage: 226.1 KB\n"
     ]
    }
   ],
   "source": [
    "df[['T001', 'T002', 'Fln_ShaftRotationSpeed']].info()"
   ]
  },
  {
   "cell_type": "code",
   "execution_count": 206,
   "metadata": {},
   "outputs": [
    {
     "data": {
      "text/html": [
       "<div>\n",
       "<style scoped>\n",
       "    .dataframe tbody tr th:only-of-type {\n",
       "        vertical-align: middle;\n",
       "    }\n",
       "\n",
       "    .dataframe tbody tr th {\n",
       "        vertical-align: top;\n",
       "    }\n",
       "\n",
       "    .dataframe thead th {\n",
       "        text-align: right;\n",
       "    }\n",
       "</style>\n",
       "<table border=\"1\" class=\"dataframe\">\n",
       "  <thead>\n",
       "    <tr style=\"text-align: right;\">\n",
       "      <th></th>\n",
       "      <th>T001</th>\n",
       "      <th>T002</th>\n",
       "      <th>Fln_ShaftRotationSpeed</th>\n",
       "    </tr>\n",
       "  </thead>\n",
       "  <tbody>\n",
       "    <tr>\n",
       "      <th>count</th>\n",
       "      <td>6154.000000</td>\n",
       "      <td>6169.000000</td>\n",
       "      <td>6813.000000</td>\n",
       "    </tr>\n",
       "    <tr>\n",
       "      <th>mean</th>\n",
       "      <td>46.064072</td>\n",
       "      <td>34.971859</td>\n",
       "      <td>1134.153299</td>\n",
       "    </tr>\n",
       "    <tr>\n",
       "      <th>std</th>\n",
       "      <td>0.380605</td>\n",
       "      <td>0.500391</td>\n",
       "      <td>610.177874</td>\n",
       "    </tr>\n",
       "    <tr>\n",
       "      <th>min</th>\n",
       "      <td>40.000000</td>\n",
       "      <td>31.700001</td>\n",
       "      <td>0.000000</td>\n",
       "    </tr>\n",
       "    <tr>\n",
       "      <th>25%</th>\n",
       "      <td>46.000000</td>\n",
       "      <td>35.000000</td>\n",
       "      <td>1435.054943</td>\n",
       "    </tr>\n",
       "    <tr>\n",
       "      <th>50%</th>\n",
       "      <td>46.200001</td>\n",
       "      <td>35.099998</td>\n",
       "      <td>1435.638903</td>\n",
       "    </tr>\n",
       "    <tr>\n",
       "      <th>75%</th>\n",
       "      <td>46.299999</td>\n",
       "      <td>35.299999</td>\n",
       "      <td>1436.215008</td>\n",
       "    </tr>\n",
       "    <tr>\n",
       "      <th>max</th>\n",
       "      <td>46.900002</td>\n",
       "      <td>35.299999</td>\n",
       "      <td>1937.898341</td>\n",
       "    </tr>\n",
       "  </tbody>\n",
       "</table>\n",
       "</div>"
      ],
      "text/plain": [
       "              T001         T002  Fln_ShaftRotationSpeed\n",
       "count  6154.000000  6169.000000             6813.000000\n",
       "mean     46.064072    34.971859             1134.153299\n",
       "std       0.380605     0.500391              610.177874\n",
       "min      40.000000    31.700001                0.000000\n",
       "25%      46.000000    35.000000             1435.054943\n",
       "50%      46.200001    35.099998             1435.638903\n",
       "75%      46.299999    35.299999             1436.215008\n",
       "max      46.900002    35.299999             1937.898341"
      ]
     },
     "execution_count": 206,
     "metadata": {},
     "output_type": "execute_result"
    }
   ],
   "source": [
    "df.describe()[['T001', 'T002', 'Fln_ShaftRotationSpeed']]"
   ]
  },
  {
   "cell_type": "code",
   "execution_count": 207,
   "metadata": {},
   "outputs": [
    {
     "data": {
      "text/html": [
       "<div>\n",
       "<style scoped>\n",
       "    .dataframe tbody tr th:only-of-type {\n",
       "        vertical-align: middle;\n",
       "    }\n",
       "\n",
       "    .dataframe tbody tr th {\n",
       "        vertical-align: top;\n",
       "    }\n",
       "\n",
       "    .dataframe thead th {\n",
       "        text-align: right;\n",
       "    }\n",
       "</style>\n",
       "<table border=\"1\" class=\"dataframe\">\n",
       "  <thead>\n",
       "    <tr style=\"text-align: right;\">\n",
       "      <th></th>\n",
       "      <th>Fln_WaterFlowRate</th>\n",
       "      <th>P001</th>\n",
       "      <th>Tamb</th>\n",
       "      <th>P002</th>\n",
       "      <th>Fln_ValveOut</th>\n",
       "      <th>X001_rmsAccEnv</th>\n",
       "      <th>F001</th>\n",
       "      <th>Urms</th>\n",
       "      <th>Irms</th>\n",
       "      <th>X001_rmsAccRaw</th>\n",
       "      <th>...</th>\n",
       "      <th>X001_rmsVelRaw</th>\n",
       "      <th>Fln_Urms</th>\n",
       "      <th>Fln_PressureIn</th>\n",
       "      <th>TmotorCase</th>\n",
       "      <th>X001_iso10816</th>\n",
       "      <th>T002</th>\n",
       "      <th>Frequency</th>\n",
       "      <th>Fln_ShaftRotationSpeed</th>\n",
       "      <th>T001</th>\n",
       "      <th>Fln_ValveIn</th>\n",
       "    </tr>\n",
       "  </thead>\n",
       "  <tbody>\n",
       "    <tr>\n",
       "      <th>0</th>\n",
       "      <td>0.000584</td>\n",
       "      <td>103.458321</td>\n",
       "      <td>20.639704</td>\n",
       "      <td>93.303284</td>\n",
       "      <td>90.0</td>\n",
       "      <td>0.0</td>\n",
       "      <td>-0.030442</td>\n",
       "      <td>0.0</td>\n",
       "      <td>0.001</td>\n",
       "      <td>1.0</td>\n",
       "      <td>...</td>\n",
       "      <td>0.0105</td>\n",
       "      <td>0.0</td>\n",
       "      <td>103.230049</td>\n",
       "      <td>33.228355</td>\n",
       "      <td>0.0005</td>\n",
       "      <td>35.0</td>\n",
       "      <td>0.0</td>\n",
       "      <td>0.0</td>\n",
       "      <td>45.400002</td>\n",
       "      <td>90.0</td>\n",
       "    </tr>\n",
       "    <tr>\n",
       "      <th>1</th>\n",
       "      <td>0.000584</td>\n",
       "      <td>103.458321</td>\n",
       "      <td>20.639704</td>\n",
       "      <td>93.303284</td>\n",
       "      <td>90.0</td>\n",
       "      <td>0.0</td>\n",
       "      <td>-0.030442</td>\n",
       "      <td>0.0</td>\n",
       "      <td>0.001</td>\n",
       "      <td>1.0</td>\n",
       "      <td>...</td>\n",
       "      <td>0.0105</td>\n",
       "      <td>0.0</td>\n",
       "      <td>103.230049</td>\n",
       "      <td>33.228355</td>\n",
       "      <td>0.0005</td>\n",
       "      <td>35.0</td>\n",
       "      <td>0.0</td>\n",
       "      <td>0.0</td>\n",
       "      <td>45.400002</td>\n",
       "      <td>90.0</td>\n",
       "    </tr>\n",
       "    <tr>\n",
       "      <th>2</th>\n",
       "      <td>0.000584</td>\n",
       "      <td>103.458321</td>\n",
       "      <td>20.639704</td>\n",
       "      <td>93.303284</td>\n",
       "      <td>90.0</td>\n",
       "      <td>0.0</td>\n",
       "      <td>-0.030442</td>\n",
       "      <td>0.0</td>\n",
       "      <td>0.001</td>\n",
       "      <td>1.0</td>\n",
       "      <td>...</td>\n",
       "      <td>0.0105</td>\n",
       "      <td>0.0</td>\n",
       "      <td>103.230049</td>\n",
       "      <td>33.228355</td>\n",
       "      <td>0.0005</td>\n",
       "      <td>35.0</td>\n",
       "      <td>0.0</td>\n",
       "      <td>0.0</td>\n",
       "      <td>45.400002</td>\n",
       "      <td>90.0</td>\n",
       "    </tr>\n",
       "    <tr>\n",
       "      <th>3</th>\n",
       "      <td>0.000584</td>\n",
       "      <td>103.458321</td>\n",
       "      <td>20.639704</td>\n",
       "      <td>93.303284</td>\n",
       "      <td>90.0</td>\n",
       "      <td>0.0</td>\n",
       "      <td>-0.030442</td>\n",
       "      <td>0.0</td>\n",
       "      <td>0.001</td>\n",
       "      <td>1.0</td>\n",
       "      <td>...</td>\n",
       "      <td>0.0105</td>\n",
       "      <td>0.0</td>\n",
       "      <td>103.230049</td>\n",
       "      <td>33.228355</td>\n",
       "      <td>0.0005</td>\n",
       "      <td>35.0</td>\n",
       "      <td>0.0</td>\n",
       "      <td>0.0</td>\n",
       "      <td>45.400002</td>\n",
       "      <td>90.0</td>\n",
       "    </tr>\n",
       "    <tr>\n",
       "      <th>4</th>\n",
       "      <td>0.000584</td>\n",
       "      <td>103.458321</td>\n",
       "      <td>20.639704</td>\n",
       "      <td>93.303284</td>\n",
       "      <td>90.0</td>\n",
       "      <td>0.0</td>\n",
       "      <td>-0.030442</td>\n",
       "      <td>0.0</td>\n",
       "      <td>0.001</td>\n",
       "      <td>1.0</td>\n",
       "      <td>...</td>\n",
       "      <td>0.0105</td>\n",
       "      <td>0.0</td>\n",
       "      <td>103.230049</td>\n",
       "      <td>33.228355</td>\n",
       "      <td>0.0005</td>\n",
       "      <td>35.0</td>\n",
       "      <td>0.0</td>\n",
       "      <td>0.0</td>\n",
       "      <td>45.400002</td>\n",
       "      <td>90.0</td>\n",
       "    </tr>\n",
       "  </tbody>\n",
       "</table>\n",
       "<p>5 rows × 36 columns</p>\n",
       "</div>"
      ],
      "text/plain": [
       "   Fln_WaterFlowRate        P001       Tamb       P002  Fln_ValveOut  \\\n",
       "0           0.000584  103.458321  20.639704  93.303284          90.0   \n",
       "1           0.000584  103.458321  20.639704  93.303284          90.0   \n",
       "2           0.000584  103.458321  20.639704  93.303284          90.0   \n",
       "3           0.000584  103.458321  20.639704  93.303284          90.0   \n",
       "4           0.000584  103.458321  20.639704  93.303284          90.0   \n",
       "\n",
       "   X001_rmsAccEnv      F001  Urms   Irms  X001_rmsAccRaw     ...      \\\n",
       "0             0.0 -0.030442   0.0  0.001             1.0     ...       \n",
       "1             0.0 -0.030442   0.0  0.001             1.0     ...       \n",
       "2             0.0 -0.030442   0.0  0.001             1.0     ...       \n",
       "3             0.0 -0.030442   0.0  0.001             1.0     ...       \n",
       "4             0.0 -0.030442   0.0  0.001             1.0     ...       \n",
       "\n",
       "   X001_rmsVelRaw  Fln_Urms  Fln_PressureIn  TmotorCase  X001_iso10816  T002  \\\n",
       "0          0.0105       0.0      103.230049   33.228355         0.0005  35.0   \n",
       "1          0.0105       0.0      103.230049   33.228355         0.0005  35.0   \n",
       "2          0.0105       0.0      103.230049   33.228355         0.0005  35.0   \n",
       "3          0.0105       0.0      103.230049   33.228355         0.0005  35.0   \n",
       "4          0.0105       0.0      103.230049   33.228355         0.0005  35.0   \n",
       "\n",
       "   Frequency  Fln_ShaftRotationSpeed       T001 Fln_ValveIn  \n",
       "0        0.0                     0.0  45.400002        90.0  \n",
       "1        0.0                     0.0  45.400002        90.0  \n",
       "2        0.0                     0.0  45.400002        90.0  \n",
       "3        0.0                     0.0  45.400002        90.0  \n",
       "4        0.0                     0.0  45.400002        90.0  \n",
       "\n",
       "[5 rows x 36 columns]"
      ]
     },
     "execution_count": 207,
     "metadata": {},
     "output_type": "execute_result"
    }
   ],
   "source": [
    "df.head()"
   ]
  },
  {
   "cell_type": "code",
   "execution_count": 208,
   "metadata": {},
   "outputs": [
    {
     "data": {
      "text/html": [
       "<div>\n",
       "<style scoped>\n",
       "    .dataframe tbody tr th:only-of-type {\n",
       "        vertical-align: middle;\n",
       "    }\n",
       "\n",
       "    .dataframe tbody tr th {\n",
       "        vertical-align: top;\n",
       "    }\n",
       "\n",
       "    .dataframe thead th {\n",
       "        text-align: right;\n",
       "    }\n",
       "</style>\n",
       "<table border=\"1\" class=\"dataframe\">\n",
       "  <thead>\n",
       "    <tr style=\"text-align: right;\">\n",
       "      <th></th>\n",
       "      <th>Fln_WaterFlowRate</th>\n",
       "      <th>P001</th>\n",
       "      <th>Tamb</th>\n",
       "      <th>P002</th>\n",
       "      <th>Fln_ValveOut</th>\n",
       "      <th>X001_rmsAccEnv</th>\n",
       "      <th>F001</th>\n",
       "      <th>Urms</th>\n",
       "      <th>Irms</th>\n",
       "      <th>X001_rmsAccRaw</th>\n",
       "      <th>...</th>\n",
       "      <th>X001_rmsVelRaw</th>\n",
       "      <th>Fln_Urms</th>\n",
       "      <th>Fln_PressureIn</th>\n",
       "      <th>TmotorCase</th>\n",
       "      <th>X001_iso10816</th>\n",
       "      <th>T002</th>\n",
       "      <th>Frequency</th>\n",
       "      <th>Fln_ShaftRotationSpeed</th>\n",
       "      <th>T001</th>\n",
       "      <th>Fln_ValveIn</th>\n",
       "    </tr>\n",
       "  </thead>\n",
       "  <tbody>\n",
       "    <tr>\n",
       "      <th>9639</th>\n",
       "      <td>NaN</td>\n",
       "      <td>NaN</td>\n",
       "      <td>0.0</td>\n",
       "      <td>NaN</td>\n",
       "      <td>90.0</td>\n",
       "      <td>NaN</td>\n",
       "      <td>NaN</td>\n",
       "      <td>NaN</td>\n",
       "      <td>NaN</td>\n",
       "      <td>NaN</td>\n",
       "      <td>...</td>\n",
       "      <td>NaN</td>\n",
       "      <td>NaN</td>\n",
       "      <td>NaN</td>\n",
       "      <td>0.0</td>\n",
       "      <td>NaN</td>\n",
       "      <td>NaN</td>\n",
       "      <td>NaN</td>\n",
       "      <td>NaN</td>\n",
       "      <td>NaN</td>\n",
       "      <td>NaN</td>\n",
       "    </tr>\n",
       "    <tr>\n",
       "      <th>9640</th>\n",
       "      <td>NaN</td>\n",
       "      <td>NaN</td>\n",
       "      <td>0.0</td>\n",
       "      <td>NaN</td>\n",
       "      <td>5.0</td>\n",
       "      <td>NaN</td>\n",
       "      <td>NaN</td>\n",
       "      <td>NaN</td>\n",
       "      <td>NaN</td>\n",
       "      <td>NaN</td>\n",
       "      <td>...</td>\n",
       "      <td>NaN</td>\n",
       "      <td>NaN</td>\n",
       "      <td>NaN</td>\n",
       "      <td>0.0</td>\n",
       "      <td>NaN</td>\n",
       "      <td>NaN</td>\n",
       "      <td>NaN</td>\n",
       "      <td>NaN</td>\n",
       "      <td>NaN</td>\n",
       "      <td>NaN</td>\n",
       "    </tr>\n",
       "    <tr>\n",
       "      <th>9641</th>\n",
       "      <td>NaN</td>\n",
       "      <td>NaN</td>\n",
       "      <td>0.0</td>\n",
       "      <td>NaN</td>\n",
       "      <td>90.0</td>\n",
       "      <td>NaN</td>\n",
       "      <td>NaN</td>\n",
       "      <td>NaN</td>\n",
       "      <td>NaN</td>\n",
       "      <td>NaN</td>\n",
       "      <td>...</td>\n",
       "      <td>NaN</td>\n",
       "      <td>NaN</td>\n",
       "      <td>NaN</td>\n",
       "      <td>0.0</td>\n",
       "      <td>NaN</td>\n",
       "      <td>NaN</td>\n",
       "      <td>NaN</td>\n",
       "      <td>NaN</td>\n",
       "      <td>NaN</td>\n",
       "      <td>NaN</td>\n",
       "    </tr>\n",
       "    <tr>\n",
       "      <th>9642</th>\n",
       "      <td>NaN</td>\n",
       "      <td>NaN</td>\n",
       "      <td>0.0</td>\n",
       "      <td>NaN</td>\n",
       "      <td>5.0</td>\n",
       "      <td>NaN</td>\n",
       "      <td>NaN</td>\n",
       "      <td>NaN</td>\n",
       "      <td>NaN</td>\n",
       "      <td>NaN</td>\n",
       "      <td>...</td>\n",
       "      <td>NaN</td>\n",
       "      <td>NaN</td>\n",
       "      <td>NaN</td>\n",
       "      <td>0.0</td>\n",
       "      <td>NaN</td>\n",
       "      <td>NaN</td>\n",
       "      <td>NaN</td>\n",
       "      <td>NaN</td>\n",
       "      <td>NaN</td>\n",
       "      <td>NaN</td>\n",
       "    </tr>\n",
       "    <tr>\n",
       "      <th>9643</th>\n",
       "      <td>NaN</td>\n",
       "      <td>NaN</td>\n",
       "      <td>0.0</td>\n",
       "      <td>NaN</td>\n",
       "      <td>NaN</td>\n",
       "      <td>NaN</td>\n",
       "      <td>NaN</td>\n",
       "      <td>NaN</td>\n",
       "      <td>NaN</td>\n",
       "      <td>NaN</td>\n",
       "      <td>...</td>\n",
       "      <td>NaN</td>\n",
       "      <td>NaN</td>\n",
       "      <td>NaN</td>\n",
       "      <td>0.0</td>\n",
       "      <td>NaN</td>\n",
       "      <td>NaN</td>\n",
       "      <td>NaN</td>\n",
       "      <td>NaN</td>\n",
       "      <td>NaN</td>\n",
       "      <td>NaN</td>\n",
       "    </tr>\n",
       "  </tbody>\n",
       "</table>\n",
       "<p>5 rows × 36 columns</p>\n",
       "</div>"
      ],
      "text/plain": [
       "      Fln_WaterFlowRate  P001  Tamb  P002  Fln_ValveOut  X001_rmsAccEnv  F001  \\\n",
       "9639                NaN   NaN   0.0   NaN          90.0             NaN   NaN   \n",
       "9640                NaN   NaN   0.0   NaN           5.0             NaN   NaN   \n",
       "9641                NaN   NaN   0.0   NaN          90.0             NaN   NaN   \n",
       "9642                NaN   NaN   0.0   NaN           5.0             NaN   NaN   \n",
       "9643                NaN   NaN   0.0   NaN           NaN             NaN   NaN   \n",
       "\n",
       "      Urms  Irms  X001_rmsAccRaw     ...      X001_rmsVelRaw  Fln_Urms  \\\n",
       "9639   NaN   NaN             NaN     ...                 NaN       NaN   \n",
       "9640   NaN   NaN             NaN     ...                 NaN       NaN   \n",
       "9641   NaN   NaN             NaN     ...                 NaN       NaN   \n",
       "9642   NaN   NaN             NaN     ...                 NaN       NaN   \n",
       "9643   NaN   NaN             NaN     ...                 NaN       NaN   \n",
       "\n",
       "      Fln_PressureIn  TmotorCase  X001_iso10816  T002  Frequency  \\\n",
       "9639             NaN         0.0            NaN   NaN        NaN   \n",
       "9640             NaN         0.0            NaN   NaN        NaN   \n",
       "9641             NaN         0.0            NaN   NaN        NaN   \n",
       "9642             NaN         0.0            NaN   NaN        NaN   \n",
       "9643             NaN         0.0            NaN   NaN        NaN   \n",
       "\n",
       "      Fln_ShaftRotationSpeed  T001 Fln_ValveIn  \n",
       "9639                     NaN   NaN         NaN  \n",
       "9640                     NaN   NaN         NaN  \n",
       "9641                     NaN   NaN         NaN  \n",
       "9642                     NaN   NaN         NaN  \n",
       "9643                     NaN   NaN         NaN  \n",
       "\n",
       "[5 rows x 36 columns]"
      ]
     },
     "execution_count": 208,
     "metadata": {},
     "output_type": "execute_result"
    }
   ],
   "source": [
    "df.tail()"
   ]
  },
  {
   "cell_type": "code",
   "execution_count": 209,
   "metadata": {},
   "outputs": [
    {
     "data": {
      "text/plain": [
       "Index(['Fln_WaterFlowRate', 'P001', 'Tamb', 'P002', 'Fln_ValveOut',\n",
       "       'X001_rmsAccEnv', 'F001', 'Urms', 'Irms', 'X001_rmsAccRaw', 'Pmean',\n",
       "       'X001_rmsVelEnv', 'C002', 'C001', 'Fln_MotorActivePower',\n",
       "       'Fln_BearingLife', 'Fln_PressureOut', 'X001_peakHiFreq', 'S001',\n",
       "       'timestamp', 'PowerFactor', 'RemainingUsefulLife',\n",
       "       'Fln_HydraulicEfficiency', 'Fln_NPSH', 'Fln_Tresidual',\n",
       "       'Fln_MotorCurrentFrequency', 'X001_rmsVelRaw', 'Fln_Urms',\n",
       "       'Fln_PressureIn', 'TmotorCase', 'X001_iso10816', 'T002', 'Frequency',\n",
       "       'Fln_ShaftRotationSpeed', 'T001', 'Fln_ValveIn'],\n",
       "      dtype='object')"
      ]
     },
     "execution_count": 209,
     "metadata": {},
     "output_type": "execute_result"
    }
   ],
   "source": [
    "df.columns"
   ]
  },
  {
   "cell_type": "code",
   "execution_count": 210,
   "metadata": {},
   "outputs": [
    {
     "data": {
      "text/plain": [
       "pandas.core.series.Series"
      ]
     },
     "execution_count": 210,
     "metadata": {},
     "output_type": "execute_result"
    }
   ],
   "source": [
    "type(df.dtypes)"
   ]
  },
  {
   "cell_type": "markdown",
   "metadata": {},
   "source": [
    "### *Отбор пустых значений*"
   ]
  },
  {
   "cell_type": "code",
   "execution_count": 211,
   "metadata": {},
   "outputs": [],
   "source": [
    "data = df[pd.notnull(df.T001) & pd.notnull(df.T002) & pd.notnull(df.Fln_ShaftRotationSpeed)]"
   ]
  },
  {
   "cell_type": "code",
   "execution_count": 212,
   "metadata": {},
   "outputs": [
    {
     "name": "stdout",
     "output_type": "stream",
     "text": [
      "(9644, 36)\n",
      "(6154, 36)\n"
     ]
    }
   ],
   "source": [
    "print(df.shape)\n",
    "print(data.shape)"
   ]
  },
  {
   "cell_type": "markdown",
   "metadata": {},
   "source": [
    "### *3D plot*"
   ]
  },
  {
   "cell_type": "code",
   "execution_count": 213,
   "metadata": {},
   "outputs": [
    {
     "data": {
      "image/png": "[encoded data removed]",
      "text/plain": [
       "<Figure size 720x576 with 1 Axes>"
      ]
     },
     "metadata": {},
     "output_type": "display_data"
    }
   ],
   "source": [
    "fig = plt.figure(figsize=(10,8))\n",
    "ax = fig.add_subplot(111, projection='3d')\n",
    "ax.scatter(data.Fln_ShaftRotationSpeed, data.T002, data.T001, color='g', alpha=0.1)\n",
    "\n",
    "ax.set_xlabel('Fln_ShaftRotationSpeed')\n",
    "ax.set_ylabel('T002')\n",
    "ax.set_zlabel('T001')\n",
    "\n",
    "ax.view_init(20, 290)\n",
    "\n",
    "plt.show()"
   ]
  },
  {
   "cell_type": "markdown",
   "metadata": {},
   "source": [
    "### *Данные для обучения*"
   ]
  },
  {
   "cell_type": "code",
   "execution_count": 214,
   "metadata": {},
   "outputs": [],
   "source": [
    "X = data[['Fln_ShaftRotationSpeed', 'T002']]\n",
    "y = data['T001']"
   ]
  },
  {
   "cell_type": "code",
   "execution_count": 215,
   "metadata": {},
   "outputs": [
    {
     "data": {
      "text/plain": [
       "Fln_ShaftRotationSpeed    float64\n",
       "T002                      float64\n",
       "dtype: object"
      ]
     },
     "execution_count": 215,
     "metadata": {},
     "output_type": "execute_result"
    }
   ],
   "source": [
    "X.dtypes"
   ]
  },
  {
   "cell_type": "code",
   "execution_count": 216,
   "metadata": {},
   "outputs": [
    {
     "data": {
      "text/html": [
       "<div>\n",
       "<style scoped>\n",
       "    .dataframe tbody tr th:only-of-type {\n",
       "        vertical-align: middle;\n",
       "    }\n",
       "\n",
       "    .dataframe tbody tr th {\n",
       "        vertical-align: top;\n",
       "    }\n",
       "\n",
       "    .dataframe thead th {\n",
       "        text-align: right;\n",
       "    }\n",
       "</style>\n",
       "<table border=\"1\" class=\"dataframe\">\n",
       "  <thead>\n",
       "    <tr style=\"text-align: right;\">\n",
       "      <th></th>\n",
       "      <th>Fln_ShaftRotationSpeed</th>\n",
       "      <th>T002</th>\n",
       "      <th>T001</th>\n",
       "    </tr>\n",
       "  </thead>\n",
       "  <tbody>\n",
       "    <tr>\n",
       "      <th>count</th>\n",
       "      <td>6154.000000</td>\n",
       "      <td>6154.000000</td>\n",
       "      <td>6154.000000</td>\n",
       "    </tr>\n",
       "    <tr>\n",
       "      <th>mean</th>\n",
       "      <td>1098.029049</td>\n",
       "      <td>34.979314</td>\n",
       "      <td>46.064072</td>\n",
       "    </tr>\n",
       "    <tr>\n",
       "      <th>std</th>\n",
       "      <td>630.534787</td>\n",
       "      <td>0.477550</td>\n",
       "      <td>0.380605</td>\n",
       "    </tr>\n",
       "    <tr>\n",
       "      <th>min</th>\n",
       "      <td>0.000000</td>\n",
       "      <td>32.200001</td>\n",
       "      <td>40.000000</td>\n",
       "    </tr>\n",
       "    <tr>\n",
       "      <th>25%</th>\n",
       "      <td>1435.046053</td>\n",
       "      <td>35.000000</td>\n",
       "      <td>46.000000</td>\n",
       "    </tr>\n",
       "    <tr>\n",
       "      <th>50%</th>\n",
       "      <td>1435.638903</td>\n",
       "      <td>35.099998</td>\n",
       "      <td>46.200001</td>\n",
       "    </tr>\n",
       "    <tr>\n",
       "      <th>75%</th>\n",
       "      <td>1436.215008</td>\n",
       "      <td>35.299999</td>\n",
       "      <td>46.299999</td>\n",
       "    </tr>\n",
       "    <tr>\n",
       "      <th>max</th>\n",
       "      <td>1937.898341</td>\n",
       "      <td>35.299999</td>\n",
       "      <td>46.900002</td>\n",
       "    </tr>\n",
       "  </tbody>\n",
       "</table>\n",
       "</div>"
      ],
      "text/plain": [
       "       Fln_ShaftRotationSpeed         T002         T001\n",
       "count             6154.000000  6154.000000  6154.000000\n",
       "mean              1098.029049    34.979314    46.064072\n",
       "std                630.534787     0.477550     0.380605\n",
       "min                  0.000000    32.200001    40.000000\n",
       "25%               1435.046053    35.000000    46.000000\n",
       "50%               1435.638903    35.099998    46.200001\n",
       "75%               1436.215008    35.299999    46.299999\n",
       "max               1937.898341    35.299999    46.900002"
      ]
     },
     "execution_count": 216,
     "metadata": {},
     "output_type": "execute_result"
    }
   ],
   "source": [
    "pd.concat([X.describe(), y.describe()], axis=1)"
   ]
  },
  {
   "cell_type": "markdown",
   "metadata": {},
   "source": [
    "### *Разделение на тестовую и обучающую выборки*"
   ]
  },
  {
   "cell_type": "code",
   "execution_count": 217,
   "metadata": {},
   "outputs": [],
   "source": [
    "from sklearn.model_selection import train_test_split"
   ]
  },
  {
   "cell_type": "code",
   "execution_count": 218,
   "metadata": {},
   "outputs": [],
   "source": [
    "X_train, X_test, y_train, y_test = train_test_split(\n",
    "...     X, y, test_size=0.33, random_state=42)"
   ]
  },
  {
   "cell_type": "markdown",
   "metadata": {},
   "source": [
    "### Выбор модели обучения"
   ]
  },
  {
   "cell_type": "code",
   "execution_count": 219,
   "metadata": {},
   "outputs": [],
   "source": [
    "from sklearn.linear_model import LinearRegression"
   ]
  },
  {
   "cell_type": "code",
   "execution_count": 220,
   "metadata": {},
   "outputs": [],
   "source": [
    "model = LinearRegression()"
   ]
  },
  {
   "cell_type": "code",
   "execution_count": 221,
   "metadata": {},
   "outputs": [
    {
     "data": {
      "text/plain": [
       "{'copy_X': True, 'fit_intercept': True, 'n_jobs': 1, 'normalize': False}"
      ]
     },
     "execution_count": 221,
     "metadata": {},
     "output_type": "execute_result"
    }
   ],
   "source": [
    "model.get_params()"
   ]
  },
  {
   "cell_type": "markdown",
   "metadata": {},
   "source": [
    "*Обучение модели ...*"
   ]
  },
  {
   "cell_type": "code",
   "execution_count": 222,
   "metadata": {},
   "outputs": [
    {
     "data": {
      "text/plain": [
       "LinearRegression(copy_X=True, fit_intercept=True, n_jobs=1, normalize=False)"
      ]
     },
     "execution_count": 222,
     "metadata": {},
     "output_type": "execute_result"
    }
   ],
   "source": [
    "model.fit(X_train, y_train)"
   ]
  },
  {
   "cell_type": "markdown",
   "metadata": {},
   "source": [
    "*Полученные коэффициенты:*"
   ]
  },
  {
   "cell_type": "code",
   "execution_count": 223,
   "metadata": {},
   "outputs": [
    {
     "name": "stdout",
     "output_type": "stream",
     "text": [
      "[0.00050294 0.03156088] 44.40827502684557\n"
     ]
    }
   ],
   "source": [
    "print(model.coef_, model.intercept_)"
   ]
  },
  {
   "cell_type": "markdown",
   "metadata": {},
   "source": [
    "*Результат на тестовых данных:*"
   ]
  },
  {
   "cell_type": "code",
   "execution_count": 224,
   "metadata": {},
   "outputs": [
    {
     "data": {
      "text/plain": [
       "0.7074241869043434"
      ]
     },
     "execution_count": 224,
     "metadata": {},
     "output_type": "execute_result"
    }
   ],
   "source": [
    "model.score(X_test, y_test)"
   ]
  },
  {
   "cell_type": "code",
   "execution_count": 225,
   "metadata": {},
   "outputs": [
    {
     "data": {
      "text/plain": [
       "(32.200000762939446, 35.29999923706055)"
      ]
     },
     "execution_count": 225,
     "metadata": {},
     "output_type": "execute_result"
    }
   ],
   "source": [
    "(min(X.iloc[:,1]), max(X.iloc[:,1]))"
   ]
  },
  {
   "cell_type": "code",
   "execution_count": 226,
   "metadata": {},
   "outputs": [
    {
     "data": {
      "text/plain": [
       "(0.0, 1937.89834059629)"
      ]
     },
     "execution_count": 226,
     "metadata": {},
     "output_type": "execute_result"
    }
   ],
   "source": [
    "(min(X.iloc[:,0]), max(X.iloc[:,0]))"
   ]
  },
  {
   "cell_type": "markdown",
   "metadata": {},
   "source": [
    "### *Построение поверхности*"
   ]
  },
  {
   "cell_type": "code",
   "execution_count": 227,
   "metadata": {},
   "outputs": [],
   "source": [
    "nx = 100\n",
    "x0 = np.linspace(min(X.iloc[:,0]), max(X.iloc[:,0]), nx)\n",
    "x1 = np.linspace(min(X.iloc[:,1]), max(X.iloc[:,1]), nx)\n",
    "x0v, x1v = np.meshgrid(x0, x1)"
   ]
  },
  {
   "cell_type": "code",
   "execution_count": 228,
   "metadata": {},
   "outputs": [
    {
     "data": {
      "text/plain": [
       "(100, 100)"
      ]
     },
     "execution_count": 228,
     "metadata": {},
     "output_type": "execute_result"
    }
   ],
   "source": [
    "x0v.shape"
   ]
  },
  {
   "cell_type": "code",
   "execution_count": 229,
   "metadata": {},
   "outputs": [],
   "source": [
    "X_m_1 = np.hstack([x0v.reshape((-1,1)), x1v.reshape((-1,1))])"
   ]
  },
  {
   "cell_type": "code",
   "execution_count": 230,
   "metadata": {},
   "outputs": [
    {
     "data": {
      "text/plain": [
       "array([ 0.        , 34.70505003])"
      ]
     },
     "execution_count": 230,
     "metadata": {},
     "output_type": "execute_result"
    }
   ],
   "source": [
    "X_m_1[8000]"
   ]
  },
  {
   "cell_type": "code",
   "execution_count": 231,
   "metadata": {},
   "outputs": [],
   "source": [
    "X_m = np.vstack([x0v.flatten(), x1v.flatten()]).T"
   ]
  },
  {
   "cell_type": "code",
   "execution_count": 232,
   "metadata": {},
   "outputs": [
    {
     "data": {
      "text/plain": [
       "array([ 0.        , 34.70505003])"
      ]
     },
     "execution_count": 232,
     "metadata": {},
     "output_type": "execute_result"
    }
   ],
   "source": [
    "X_m[8000]"
   ]
  },
  {
   "cell_type": "code",
   "execution_count": 233,
   "metadata": {},
   "outputs": [],
   "source": [
    "y_m_hat = model.predict(X_m)"
   ]
  },
  {
   "cell_type": "code",
   "execution_count": 234,
   "metadata": {},
   "outputs": [
    {
     "data": {
      "text/plain": [
       "(10000,)"
      ]
     },
     "execution_count": 234,
     "metadata": {},
     "output_type": "execute_result"
    }
   ],
   "source": [
    "y_m_hat.shape"
   ]
  },
  {
   "cell_type": "code",
   "execution_count": 235,
   "metadata": {},
   "outputs": [
    {
     "data": {
      "image/png": "[encoded data removed]",
      "text/plain": [
       "<Figure size 864x576 with 2 Axes>"
      ]
     },
     "metadata": {},
     "output_type": "display_data"
    }
   ],
   "source": [
    "fig = plt.figure(figsize=(12,8))\n",
    "ax = fig.add_subplot(111, projection='3d')\n",
    "ax.scatter(data.Fln_ShaftRotationSpeed, data.T002, data.T001, color='b', alpha=0.1)\n",
    "\n",
    "ax.set_xlabel('Fln_ShaftRotationSpeed')\n",
    "ax.set_ylabel('T002')\n",
    "ax.set_zlabel('T001')\n",
    "ax.set_title(\"Temperature 3D plot\", fontsize=20)\n",
    "\n",
    "surf =ax.plot_surface(x0v, x1v, y_m_hat.reshape((100,100)), color='g', alpha=0.5, cmap=cm.coolwarm)\n",
    "fig.colorbar(surf, shrink=0.5, aspect=5)\n",
    "\n",
    "ax.view_init(20, 300)\n",
    "\n",
    "plt.show()"
   ]
  },
  {
   "cell_type": "markdown",
   "metadata": {},
   "source": [
    "*Предсказания для некоторых точек*"
   ]
  },
  {
   "cell_type": "code",
   "execution_count": 243,
   "metadata": {},
   "outputs": [
    {
     "data": {
      "text/plain": [
       "array([47.05123712, 56.04504165, 44.41330439, 44.40827503])"
      ]
     },
     "execution_count": 243,
     "metadata": {},
     "output_type": "execute_result"
    }
   ],
   "source": [
    "model.predict([\n",
    "              [4000, 20],\n",
    "              [20000, 50],\n",
    "              [10, 0],\n",
    "              [0,0]\n",
    "])"
   ]
  },
  {
   "cell_type": "code",
   "execution_count": null,
   "metadata": {},
   "outputs": [],
   "source": []
  }
 ],
 "metadata": {
  "kernelspec": {
   "display_name": "Python 3",
   "language": "python",
   "name": "python3"
  },
  "language_info": {
   "codemirror_mode": {
    "name": "ipython",
    "version": 3
   },
   "file_extension": ".py",
   "mimetype": "text/x-python",
   "name": "python",
   "nbconvert_exporter": "python",
   "pygments_lexer": "ipython3",
   "version": "3.6.5"
  }
 },
 "nbformat": 4,
 "nbformat_minor": 2
}
